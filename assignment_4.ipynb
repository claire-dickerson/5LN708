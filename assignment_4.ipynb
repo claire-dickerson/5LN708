{
 "cells": [
  {
   "cell_type": "markdown",
   "metadata": {
    "id": "Ur8BrEG4tMRD"
   },
   "source": [
    "# Assignment 4:  Gendered Directions in Embeddings"
   ]
  },
  {
   "cell_type": "code",
   "execution_count": 1,
   "metadata": {
    "colab": {
     "base_uri": "https://localhost:8080/"
    },
    "id": "g1-78pxMAa_Q",
    "outputId": "734cc7ff-80e4-4439-f40b-48b38b87c69c"
   },
   "outputs": [
    {
     "name": "stdout",
     "output_type": "stream",
     "text": [
      "Loading cached data...done (98sec)\n",
      "total 5196212\n",
      "-rw-r--r-- 1 root root 5320910082 Jun  2 16:41 cache_en.npz\n",
      "drwxr-xr-x 1 root root       4096 May  6 13:44 sample_data\n"
     ]
    }
   ],
   "source": [
    "import numpy as np\n",
    "from urllib.request import urlopen\n",
    "from tqdm import tqdm\n",
    "import os.path\n",
    "import time\n",
    "\n",
    "class AlignedEmbeddingLoader(object):\n",
    "  \"\"\"This data loader will download an aligned fasttext embedding given a two letter language code.\n",
    "  More information ca be found at https://fasttext.cc/docs/en/aligned-vectors.html .\"\"\"\n",
    "  def __init__(self, lang='en'):\n",
    "    \"\"\"Data loader\"\"\"\n",
    "    self._dataurl = \"https://dl.fbaipublicfiles.com/fasttext/vectors-aligned/wiki.%s.align.vec\" % lang\n",
    "    cachefile = \"cache_%s.npz\" % lang\n",
    "    if os.path.exists(cachefile):\n",
    "      print(\"Loading cached data...\", end=\"\")\n",
    "      t = time.time()\n",
    "      data = np.load(cachefile)\n",
    "      self.idx2token_ = list(data['idx2token'])\n",
    "      self.vectors_ = data['vectors']\n",
    "      print(\"done (%isec)\" % (time.time()-t), flush=True)\n",
    "    else:\n",
    "      with urlopen(self._dataurl) as remote_file:\n",
    "        get_decoded_line = lambda file: file.readline().decode('utf-8')\n",
    "        self.n_tokens, self.n_dim = [int(n) for n in get_decoded_line(remote_file).split()]\n",
    "        self.idx2token_ = list()\n",
    "        self.vectors_ = np.zeros((self.n_tokens, self.n_dim), dtype=np.float32)\n",
    "        for n in tqdm(range(self.vectors_.shape[0]), desc=\"Downloading and parsing vectors\"):\n",
    "          textline = get_decoded_line(remote_file)\n",
    "          linedata = textline.split(' ')\n",
    "          self.idx2token_.append(linedata[0])\n",
    "          self.vectors_[n, :] = np.asarray(linedata[1:], dtype=np.float32)\n",
    "      np.savez(cachefile, vectors=self.vectors_, idx2token=self.idx2token_)\n",
    "    self.token2idx_ = {token:i for i, token in enumerate(self.idx2token_)}\n",
    "\n",
    "loaded_embedding = AlignedEmbeddingLoader('en')\n",
    "\n",
    "!ls -l"
   ]
  },
  {
   "cell_type": "markdown",
   "metadata": {
    "id": "rEuxXfXilufb"
   },
   "source": [
    "## Analyzer"
   ]
  },
  {
   "cell_type": "code",
   "execution_count": 2,
   "metadata": {
    "id": "jDGfW5no_dZ2"
   },
   "outputs": [],
   "source": [
    "from sklearn.metrics.pairwise import cosine_similarity, euclidean_distances\n",
    "\n",
    "class EmbeddingAnalyzer(object):\n",
    "    def __init__(self, embedding):\n",
    "        self.vectors_ = embedding.vectors_\n",
    "        self.token2idx_ = embedding.token2idx_\n",
    "        self.idx2token_ = embedding.idx2token_\n",
    "\n",
    "    def __len__(self):\n",
    "        \"\"\"Gives the number of tokens in the embedding.\"\"\"\n",
    "        return len(self.token2idx_)\n",
    "\n",
    "    def __getitem__(self, tokens):\n",
    "        \"\"\"Returns the vectors for a token or a list of tokens.\"\"\"\n",
    "        if type(tokens) == str:\n",
    "            return self.vectors_[self.token2idx_[tokens]]\n",
    "        else:\n",
    "            vecs = []\n",
    "            for token in tokens:\n",
    "                vecs.append(self.vectors_[self.token2idx_[token]])\n",
    "            return np.asarray(vecs)\n",
    "\n",
    "    def __contains__(self, token):\n",
    "        \"\"\"Allows a user query if a tokens is in the embedding.\"\"\"\n",
    "        if token in self.token2idx_:\n",
    "            return True\n",
    "\n",
    "    def projection(self, direction, vectors):\n",
    "        \"\"\"The cosine similarity between a reference direction and a matrix of word vectors.\n",
    "        direction:\n",
    "        A vector\n",
    "        vectors:\n",
    "        A row matrix with word vectors\"\"\"\n",
    "        if vectors.ndim == 1:\n",
    "            return cosine_similarity(direction.reshape(1, -1), vectors.reshape(1, -1))\n",
    "        else:\n",
    "            return cosine_similarity(direction.reshape(1, -1), vectors)\n",
    "\n",
    "    def simple_analogy(self, pair, query, k=5):\n",
    "        \"\"\"Simple/Classic word analogy as: man - woman = king - queen\"\"\"\n",
    "        matches = []\n",
    "        x = self.__getitem__(query) - self.__getitem__(pair[0]) + self.__getitem__(pair[1])\n",
    "        distances = euclidean_distances(self.vectors_, x.reshape(1, -1)).ravel()\n",
    "        for idx in np.argsort(distances)[:k]:\n",
    "            matches.append(self.idx2token_[idx])\n",
    "        return matches\n",
    "\n",
    "    def similarity(self, token1, token2):\n",
    "        \"\"\"Returns the cosine similarity between two tokens.\"\"\"\n",
    "        return cosine_similarity(self.__getitem__(token1).reshape(1, -1), self.__getitem__(token2).reshape(1, -1)).ravel()\n",
    "\n",
    "    def analogies(self, analogy_direction, tokens):\n",
    "        \"\"\"The more complex word analogy method\"\"\"\n",
    "        pairs = []\n",
    "        for x in tokens:\n",
    "            scores = {}\n",
    "            for y in [token for token in tokens if not token == x]:\n",
    "                if np.linalg.norm(self.__getitem__(x) - self.__getitem__(y)) <= 1:\n",
    "                    scores[(x, y)] = cosine_similarity(analogy_direction.reshape(1, -1), (self.__getitem__(x) - self.__getitem__(y)).reshape(1, -1)).item()\n",
    "                else: \n",
    "                    scores[(x, y)] = 0\n",
    "            best_scores = list(sorted(scores.items(), key=lambda item: item[1], reverse=True))\n",
    "            if best_scores[0][1] != 0:\n",
    "                pairs.append(best_scores[0][0])\n",
    "        return pairs\n",
    "\n",
    "analyzer = EmbeddingAnalyzer(loaded_embedding)\n",
    "\n",
    "assert 'man' in analyzer\n",
    "assert 'woman' in analyzer\n",
    "assert 'kdjfsfhgkdsjfdh' not in analyzer\n",
    "\n",
    "assert len(analyzer) > 100000\n",
    "\n",
    "assert type(analyzer['man']) is np.ndarray\n",
    "assert np.isclose(np.sum(analyzer['man']-analyzer['man']), 0)"
   ]
  },
  {
   "cell_type": "markdown",
   "metadata": {
    "id": "EX_7UbfKeLzH"
   },
   "source": [
    "## Word similarity"
   ]
  },
  {
   "cell_type": "code",
   "execution_count": 3,
   "metadata": {
    "id": "LwrYqvyYMUQq"
   },
   "outputs": [],
   "source": [
    "assert analyzer.similarity('cat', 'dog') >= analyzer.similarity('cat', 'cow')"
   ]
  },
  {
   "cell_type": "markdown",
   "metadata": {
    "id": "TKsJ7LfELybJ"
   },
   "source": [
    "## Word analogies\n"
   ]
  },
  {
   "cell_type": "markdown",
   "metadata": {
    "id": "Bz9V_IZWtlb4"
   },
   "source": [
    "### Nouns"
   ]
  },
  {
   "cell_type": "code",
   "execution_count": 4,
   "metadata": {
    "colab": {
     "base_uri": "https://localhost:8080/"
    },
    "id": "CMtTEzuvHDls",
    "outputId": "ba99d220-21be-4d8b-9a41-6ec3f73f27a3"
   },
   "outputs": [
    {
     "name": "stdout",
     "output_type": "stream",
     "text": [
      "Matches (in order of similarity):\n",
      "1 king\n",
      "2 queen\n",
      "3 princess\n",
      "4 regnant\n",
      "5 princesses\n"
     ]
    }
   ],
   "source": [
    "best_matches = analyzer.simple_analogy(('man', 'woman'), 'king', k=5)\n",
    "print(\"Matches (in order of similarity):\")\n",
    "for i, token in enumerate(best_matches):\n",
    "  print(i+1, token)\n",
    "\n",
    "assert 'queen' in analyzer.simple_analogy(('man', 'woman'), 'king', k=5)"
   ]
  },
  {
   "cell_type": "markdown",
   "metadata": {
    "id": "yY3FS9q5x9qr"
   },
   "source": [
    "### Capitals"
   ]
  },
  {
   "cell_type": "code",
   "execution_count": 5,
   "metadata": {
    "colab": {
     "base_uri": "https://localhost:8080/"
    },
    "id": "xL3dPVqKx9wa",
    "outputId": "03ae6565-eb70-41e3-af7b-3a636ab5277e"
   },
   "outputs": [
    {
     "name": "stdout",
     "output_type": "stream",
     "text": [
      "Matches (in order of similarity):\n",
      "1 tokyo\n",
      "2 japan\n",
      "3 osaka\n",
      "4 kyoto\n",
      "5 tokyo ",
      "\n"
     ]
    }
   ],
   "source": [
    "best_matches = analyzer.simple_analogy(('france', 'japan'), 'paris', k=5)\n",
    "print(\"Matches (in order of similarity):\")\n",
    "for i, token in enumerate(best_matches):\n",
    "  print(i+1, token)\n",
    "\n",
    "assert 'tokyo' in analyzer.simple_analogy(('france', 'japan'), 'paris', k=5)"
   ]
  },
  {
   "cell_type": "markdown",
   "metadata": {
    "id": "X1EknjnwpI2H"
   },
   "source": [
    "### Adjectives"
   ]
  },
  {
   "cell_type": "code",
   "execution_count": 6,
   "metadata": {
    "colab": {
     "base_uri": "https://localhost:8080/"
    },
    "id": "EToRdEGKXzeW",
    "outputId": "8aa6cb63-7277-4d30-b770-e68df79ec920"
   },
   "outputs": [
    {
     "name": "stdout",
     "output_type": "stream",
     "text": [
      "Matches (in order of similarity):\n",
      "1 smaller\n",
      "2 larger\n",
      "3 small\n",
      "4 bigger\n",
      "5 smalled\n"
     ]
    }
   ],
   "source": [
    "best_matches = analyzer.simple_analogy(('big', 'bigger'), 'small', k=5)\n",
    "print(\"Matches (in order of similarity):\")\n",
    "for i, token in enumerate(best_matches):\n",
    "  print(i+1, token)"
   ]
  },
  {
   "cell_type": "markdown",
   "metadata": {
    "id": "XgPGM1cvzIIo"
   },
   "source": [
    "## Finding the genderedness of professions"
   ]
  },
  {
   "cell_type": "code",
   "execution_count": 7,
   "metadata": {
    "colab": {
     "base_uri": "https://localhost:8080/"
    },
    "id": "ABmxQ1Fu56fr",
    "outputId": "6cc46cb2-7a27-459c-faa5-4c1fe1f44168"
   },
   "outputs": [
    {
     "name": "stdout",
     "output_type": "stream",
     "text": [
      "Loaded 320 professions\n"
     ]
    }
   ],
   "source": [
    "import json\n",
    "with urlopen('https://raw.githubusercontent.com/tolga-b/debiaswe/master/data/professions.json') as remote_file:\n",
    "  professions = {title: {'definitional': defi, 'stereotypical': ster} for title, defi, ster in json.load(remote_file)}\n",
    "print(\"Loaded %i professions\" % len(professions))"
   ]
  },
  {
   "cell_type": "markdown",
   "metadata": {
    "id": "1mbuzbDNpygo"
   },
   "source": [
    "The projection of vectors for different professions in a gender direction:"
   ]
  },
  {
   "cell_type": "code",
   "execution_count": 8,
   "metadata": {
    "id": "uXVOOb8UEOsG"
   },
   "outputs": [],
   "source": [
    "assert type(analyzer[['man', 'woman', 'butcher']]) is np.ndarray\n",
    "assert analyzer[['man', 'woman', 'butcher']].shape[0] == 3\n",
    "\n",
    "assert analyzer.projection(analyzer['man']-analyzer['woman'], analyzer['butcher']) > 0\n",
    "assert analyzer.projection(analyzer['man']-analyzer['woman'], analyzer['ballerina']) < 0"
   ]
  },
  {
   "cell_type": "markdown",
   "metadata": {
    "id": "hvWMsRHWrZ-G"
   },
   "source": [
    "Create a woman-man direction:"
   ]
  },
  {
   "cell_type": "code",
   "execution_count": 9,
   "metadata": {
    "id": "o7qVcJM5_h7Y"
   },
   "outputs": [],
   "source": [
    "direction = analyzer['man']-analyzer['woman']\n",
    "titles = [title for title in professions.keys() if title in analyzer]\n",
    "projection = analyzer.projection(direction, analyzer[titles])"
   ]
  },
  {
   "cell_type": "markdown",
   "metadata": {
    "id": "I4ld8hekrdEm"
   },
   "source": [
    "The estimation of the gender direction can be improved by using several pairs: "
   ]
  },
  {
   "cell_type": "code",
   "execution_count": 10,
   "metadata": {
    "colab": {
     "base_uri": "https://localhost:8080/"
    },
    "id": "unzkpmHOs6Wi",
    "outputId": "694a8758-9e5e-491c-b83c-a9179ef4c644"
   },
   "outputs": [
    {
     "data": {
      "text/plain": [
       "[('woman', 'man'),\n",
       " ('girl', 'boy'),\n",
       " ('she', 'he'),\n",
       " ('mother', 'father'),\n",
       " ('daughter', 'son'),\n",
       " ('gal', 'guy'),\n",
       " ('female', 'male'),\n",
       " ('her', 'his'),\n",
       " ('herself', 'himself'),\n",
       " ('Mary', 'John')]"
      ]
     },
     "execution_count": 10,
     "metadata": {
      "tags": []
     },
     "output_type": "execute_result"
    }
   ],
   "source": [
    "import json\n",
    "with urlopen('https://raw.githubusercontent.com/tolga-b/debiaswe/master/data/definitional_pairs.json') as remote_file:\n",
    "  definitional_pairs = [(m, f) for m, f in json.load(remote_file)]\n",
    "definitional_pairs"
   ]
  },
  {
   "cell_type": "code",
   "execution_count": 11,
   "metadata": {
    "id": "sueBKKyFGduH"
   },
   "outputs": [],
   "source": [
    "direction2 = np.zeros(analyzer['man'].shape)\n",
    "for female, male in definitional_pairs:\n",
    "  direction2 += analyzer[male.lower()]\n",
    "  direction2 -= analyzer[female.lower()]\n",
    "\n",
    "projection2 = analyzer.projection(direction2, analyzer[titles])"
   ]
  },
  {
   "cell_type": "markdown",
   "metadata": {
    "id": "DrRCBj3dr6m_"
   },
   "source": [
    "### Plot the relation between genderedness in the data and human annotation"
   ]
  },
  {
   "cell_type": "code",
   "execution_count": 12,
   "metadata": {
    "colab": {
     "base_uri": "https://localhost:8080/",
     "height": 381
    },
    "id": "qxgJnULiG0_Q",
    "outputId": "4abf25ac-8fad-43e7-e5f4-bf595176f310"
   },
   "outputs": [
    {
     "data": {
      "image/png": "[encoded data removed]",
      "text/plain": [
       "<Figure size 864x360 with 2 Axes>"
      ]
     },
     "metadata": {
      "needs_background": "light",
      "tags": []
     },
     "output_type": "display_data"
    }
   ],
   "source": [
    "import matplotlib.pyplot as plt\n",
    "import seaborn as sns\n",
    "\n",
    "fig = plt.figure(figsize=(12, 5))\n",
    "ax = fig.subplots(1, 2)\n",
    "stereotypicality = [professions[title]['stereotypical'] for title in titles]\n",
    "sns.regplot(x=projection, y=stereotypicality, ax=ax[0])\n",
    "a = sns.regplot(x=projection2, y=stereotypicality, ax=ax[1])\n",
    "ax[0].set_xlabel(\"Projection (one pair)\")\n",
    "ax[1].set_xlabel(\"Projection (several pairs)\")\n",
    "ax[0].set_ylabel(\"Human labelled stereotypicality\")\n",
    "fig.tight_layout(pad=.5)\n",
    "fig.show()"
   ]
  },
  {
   "cell_type": "code",
   "execution_count": 13,
   "metadata": {
    "colab": {
     "base_uri": "https://localhost:8080/",
     "height": 381
    },
    "id": "Rb4MO33THKEN",
    "outputId": "303a9759-cd2f-497c-fc43-a1bb1ee11b29"
   },
   "outputs": [
    {
     "data": {
      "image/png": "[encoded data removed]",
      "text/plain": [
       "<Figure size 864x360 with 2 Axes>"
      ]
     },
     "metadata": {
      "needs_background": "light",
      "tags": []
     },
     "output_type": "display_data"
    }
   ],
   "source": [
    "fig = plt.figure(figsize=(12, 5))\n",
    "ax = fig.subplots(1, 2)\n",
    "definitionality = [professions[title]['definitional'] for title in titles]\n",
    "sns.regplot(x=projection, y=definitionality, ax=ax[0])\n",
    "a = sns.regplot(x=projection2, y=definitionality, ax=ax[1])\n",
    "ax[0].set_xlabel(\"Projection (one pair)\")\n",
    "ax[1].set_xlabel(\"Projection (several pairs)\")\n",
    "ax[0].set_ylabel(\"Human labelled definitional genderedness\")\n",
    "fig.tight_layout(pad=.5)\n",
    "fig.show()"
   ]
  },
  {
   "cell_type": "markdown",
   "metadata": {
    "id": "cjgbqFix9A6Z"
   },
   "source": [
    "## More analogies\n"
   ]
  },
  {
   "cell_type": "code",
   "execution_count": 14,
   "metadata": {
    "colab": {
     "base_uri": "https://localhost:8080/"
    },
    "id": "HY3EsrrTvxFx",
    "outputId": "f71b0000-b48b-4e17-8e6f-4083d638620e"
   },
   "outputs": [
    {
     "data": {
      "text/plain": [
       "[('actor', 'actress'), ('actress', 'actor')]"
      ]
     },
     "execution_count": 14,
     "metadata": {
      "tags": []
     },
     "output_type": "execute_result"
    }
   ],
   "source": [
    "assert len(analyzer.analogies(analyzer['man']-analyzer['woman'], ['actor', 'actress'])) == 2\n",
    "assert type(analyzer.analogies(analyzer['man']-analyzer['woman'], ['actor', 'actress'])) == list\n",
    "assert type(analyzer.analogies(analyzer['man']-analyzer['woman'], ['actor', 'actress'])[0]) == tuple\n",
    "\n",
    "analyzer.analogies(analyzer['man']-analyzer['woman'], ['actor', 'actress'])"
   ]
  },
  {
   "cell_type": "code",
   "execution_count": 15,
   "metadata": {
    "colab": {
     "base_uri": "https://localhost:8080/"
    },
    "id": "VK9et5C29AYD",
    "outputId": "aaaeba54-b873-4bb7-fb13-2ee8fd836e7e"
   },
   "outputs": [
    {
     "data": {
      "text/plain": [
       "[('accountant', 'businesswoman'),\n",
       " ('actor', 'actress'),\n",
       " ('actress', 'waitress'),\n",
       " ('administrator', 'bureaucrat'),\n",
       " ('adventurer', 'protagonist'),\n",
       " ('advocate', 'campaigner'),\n",
       " ('aide', 'counselor'),\n",
       " ('alderman', 'solicitor'),\n",
       " ('alter_ego', 'fashion_designer'),\n",
       " ('ambassador', 'secretary'),\n",
       " ('analyst', 'columnist'),\n",
       " ('anthropologist', 'pediatrician'),\n",
       " ('archaeologist', 'anthropologist'),\n",
       " ('archbishop', 'parishioner'),\n",
       " ('architect', 'painter'),\n",
       " ('artist', 'singer'),\n",
       " ('artiste', 'performer'),\n",
       " ('assassin', 'bodyguard'),\n",
       " ('astronomer', 'archaeologist'),\n",
       " ('athlete', 'swimmer'),\n",
       " ('attorney', 'paralegal'),\n",
       " ('author', 'novelist'),\n",
       " ('ballerina', 'actress'),\n",
       " ('banker', 'businesswoman'),\n",
       " ('barber', 'hairdresser'),\n",
       " ('barrister', 'campaigner'),\n",
       " ('bartender', 'waitress'),\n",
       " ('biologist', 'pediatrician'),\n",
       " ('bishop', 'parishioner'),\n",
       " ('bookkeeper', 'waitress'),\n",
       " ('boss', 'bartender'),\n",
       " ('boxer', 'wrestler'),\n",
       " ('broadcaster', 'columnist'),\n",
       " ('broker', 'realtor'),\n",
       " ('businessman', 'businesswoman'),\n",
       " ('businesswoman', 'waitress'),\n",
       " ('butcher', 'hairdresser'),\n",
       " ('butler', 'baker'),\n",
       " ('cameraman', 'photojournalist'),\n",
       " ('campaigner', 'businesswoman'),\n",
       " ('captain', 'officer'),\n",
       " ('cardiologist', 'nurse'),\n",
       " ('caretaker', 'housekeeper'),\n",
       " ('cartoonist', 'novelist'),\n",
       " ('cellist', 'ballerina'),\n",
       " ('chancellor', 'secretary'),\n",
       " ('chaplain', 'lecturer'),\n",
       " ('character', 'protagonist'),\n",
       " ('chemist', 'pediatrician'),\n",
       " ('choreographer', 'actress'),\n",
       " ('cinematographer', 'actress'),\n",
       " ('cleric', 'chaplain'),\n",
       " ('clerk', 'bookkeeper'),\n",
       " ('coach', 'goalkeeper'),\n",
       " ('collector', 'curator'),\n",
       " ('colonel', 'surgeon'),\n",
       " ('columnist', 'novelist'),\n",
       " ('comedian', 'actress'),\n",
       " ('comic', 'illustrator'),\n",
       " ('commander', 'deputy'),\n",
       " ('commentator', 'columnist'),\n",
       " ('commissioner', 'secretary'),\n",
       " ('composer', 'singer'),\n",
       " ('conductor', 'cellist'),\n",
       " ('confesses', 'waitress'),\n",
       " ('congressman', 'senator'),\n",
       " ('constable', 'detective'),\n",
       " ('consultant', 'businesswoman'),\n",
       " ('cop', 'detective'),\n",
       " ('correspondent', 'photojournalist'),\n",
       " ('councilman', 'realtor'),\n",
       " ('councilor', 'secretary'),\n",
       " ('counselor', 'therapist'),\n",
       " ('critic', 'novelist'),\n",
       " ('crooner', 'singer'),\n",
       " ('curator', 'librarian'),\n",
       " ('dad', 'trucker'),\n",
       " ('dancer', 'actress'),\n",
       " ('dean', 'professor'),\n",
       " ('dentist', 'nurse'),\n",
       " ('deputy', 'secretary'),\n",
       " ('dermatologist', 'nurse'),\n",
       " ('detective', 'receptionist'),\n",
       " ('diplomat', 'socialite'),\n",
       " ('director', 'choreographer'),\n",
       " ('drummer', 'vocalist'),\n",
       " ('economist', 'anthropologist'),\n",
       " ('editor', 'columnist'),\n",
       " ('educator', 'businesswoman'),\n",
       " ('electrician', 'homemaker'),\n",
       " ('employee', 'receptionist'),\n",
       " ('entertainer', 'actress'),\n",
       " ('entrepreneur', 'businesswoman'),\n",
       " ('environmentalist', 'businesswoman'),\n",
       " ('envoy', 'ambassador'),\n",
       " ('epidemiologist', 'pediatrician'),\n",
       " ('evangelist', 'parishioner'),\n",
       " ('farmer', 'housewife'),\n",
       " ('filmmaker', 'actress'),\n",
       " ('financier', 'businesswoman'),\n",
       " ('firefighter', 'welder'),\n",
       " ('fireman', 'firefighter'),\n",
       " ('fisherman', 'sailor'),\n",
       " ('footballer', 'swimmer'),\n",
       " ('foreman', 'bookkeeper'),\n",
       " ('gangster', 'bartender'),\n",
       " ('gardener', 'housekeeper'),\n",
       " ('geologist', 'anthropologist'),\n",
       " ('goalkeeper', 'understudy'),\n",
       " ('guitarist', 'vocalist'),\n",
       " ('hairdresser', 'waitress'),\n",
       " ('handyman', 'waitress'),\n",
       " ('headmaster', 'teacher'),\n",
       " ('historian', 'novelist'),\n",
       " ('hitman', 'bartender'),\n",
       " ('homemaker', 'waitress'),\n",
       " ('housekeeper', 'maid'),\n",
       " ('housewife', 'maid'),\n",
       " ('illustrator', 'novelist'),\n",
       " ('industrialist', 'businesswoman'),\n",
       " ('infielder', 'ballplayer'),\n",
       " ('inspector', 'prosecutor'),\n",
       " ('instructor', 'teacher'),\n",
       " ('inventor', 'philanthropist'),\n",
       " ('janitor', 'waitress'),\n",
       " ('jeweler', 'shopkeeper'),\n",
       " ('journalist', 'actress'),\n",
       " ('judge', 'prosecutor'),\n",
       " ('jurist', 'sociologist'),\n",
       " ('laborer', 'housewife'),\n",
       " ('landlord', 'shopkeeper'),\n",
       " ('lawmaker', 'prosecutor'),\n",
       " ('lawyer', 'businesswoman'),\n",
       " ('lecturer', 'librarian'),\n",
       " ('legislator', 'businesswoman'),\n",
       " ('lieutenant', 'superintendent'),\n",
       " ('lyricist', 'actress'),\n",
       " ('maestro', 'violinist'),\n",
       " ('magician', 'performer'),\n",
       " ('magistrate', 'servant'),\n",
       " ('manager', 'caretaker'),\n",
       " ('marshal', 'officer'),\n",
       " ('mathematician', 'pediatrician'),\n",
       " ('mechanic', 'welder'),\n",
       " ('medic', 'nurse'),\n",
       " ('midfielder', 'goalkeeper'),\n",
       " ('minister', 'secretary'),\n",
       " ('missionary', 'parishioner'),\n",
       " ('mobster', 'bartender'),\n",
       " ('monk', 'nun'),\n",
       " ('musician', 'actress'),\n",
       " ('nanny', 'maid'),\n",
       " ('narrator', 'protagonist'),\n",
       " ('naturalist', 'anthropologist'),\n",
       " ('negotiator', 'mediator'),\n",
       " ('neurologist', 'pediatrician'),\n",
       " ('neurosurgeon', 'nurse'),\n",
       " ('novelist', 'actress'),\n",
       " ('nurse', 'maid'),\n",
       " ('officer', 'serviceman'),\n",
       " ('organist', 'cellist'),\n",
       " ('painter', 'novelist'),\n",
       " ('parishioner', 'housekeeper'),\n",
       " ('parliamentarian', 'campaigner'),\n",
       " ('pastor', 'parishioner'),\n",
       " ('pathologist', 'nurse'),\n",
       " ('patrolman', 'bartender'),\n",
       " ('pediatrician', 'nurse'),\n",
       " ('performer', 'actress'),\n",
       " ('pharmacist', 'nurse'),\n",
       " ('philanthropist', 'businesswoman'),\n",
       " ('philosopher', 'novelist'),\n",
       " ('photographer', 'stylist'),\n",
       " ('photojournalist', 'novelist'),\n",
       " ('physician', 'nurse'),\n",
       " ('physicist', 'pediatrician'),\n",
       " ('pianist', 'actress'),\n",
       " ('playwright', 'actress'),\n",
       " ('plumber', 'hairdresser'),\n",
       " ('poet', 'singer'),\n",
       " ('policeman', 'waitress'),\n",
       " ('politician', 'businesswoman'),\n",
       " ('preacher', 'parishioner'),\n",
       " ('president', 'secretary'),\n",
       " ('priest', 'nun'),\n",
       " ('professor', 'pediatrician'),\n",
       " ('proprietor', 'shopkeeper'),\n",
       " ('protege', 'bodyguard'),\n",
       " ('provost', 'chaplain'),\n",
       " ('psychiatrist', 'nurse'),\n",
       " ('psychologist', 'therapist'),\n",
       " ('publicist', 'businesswoman'),\n",
       " ('pundit', 'columnist'),\n",
       " ('radiologist', 'nurse'),\n",
       " ('ranger', 'trooper'),\n",
       " ('realtor', 'businesswoman'),\n",
       " ('receptionist', 'waitress'),\n",
       " ('researcher', 'pediatrician'),\n",
       " ('restaurateur', 'waitress'),\n",
       " ('salesman', 'waitress'),\n",
       " ('saxophonist', 'singer'),\n",
       " ('scholar', 'librarian'),\n",
       " ('scientist', 'pediatrician'),\n",
       " ('screenwriter', 'actress'),\n",
       " ('sculptor', 'artist'),\n",
       " ('sergeant', 'medic'),\n",
       " ('servant', 'maid'),\n",
       " ('serviceman', 'medic'),\n",
       " ('shopkeeper', 'waitress'),\n",
       " ('singer', 'actress'),\n",
       " ('socialite', 'waitress'),\n",
       " ('sociologist', 'pediatrician'),\n",
       " ('soldier', 'servant'),\n",
       " ('solicitor', 'paralegal'),\n",
       " ('soloist', 'ballerina'),\n",
       " ('sportsman', 'athlete'),\n",
       " ('sportswriter', 'columnist'),\n",
       " ('statesman', 'journalist'),\n",
       " ('steward', 'bureaucrat'),\n",
       " ('stockbroker', 'businesswoman'),\n",
       " ('strategist', 'planner'),\n",
       " ('student', 'teacher'),\n",
       " ('stylist', 'actress'),\n",
       " ('superintendent', 'principal'),\n",
       " ('surgeon', 'nurse'),\n",
       " ('surveyor', 'solicitor'),\n",
       " ('teacher', 'homemaker'),\n",
       " ('technician', 'nurse'),\n",
       " ('teenager', 'waitress'),\n",
       " ('therapist', 'nurse'),\n",
       " ('trader', 'shopkeeper'),\n",
       " ('treasurer', 'secretary'),\n",
       " ('trooper', 'medic'),\n",
       " ('trucker', 'cabbie'),\n",
       " ('trumpeter', 'vocalist'),\n",
       " ('tutor', 'teacher'),\n",
       " ('tycoon', 'businesswoman'),\n",
       " ('undersecretary', 'secretary'),\n",
       " ('vice_chancellor', 'alter_ego'),\n",
       " ('violinist', 'actress'),\n",
       " ('vocalist', 'actress'),\n",
       " ('waiter', 'waitress'),\n",
       " ('waitress', 'maid'),\n",
       " ('warden', 'chaplain'),\n",
       " ('welder', 'worker'),\n",
       " ('worker', 'housewife'),\n",
       " ('wrestler', 'swimmer'),\n",
       " ('writer', 'novelist')]"
      ]
     },
     "execution_count": 15,
     "metadata": {
      "tags": []
     },
     "output_type": "execute_result"
    }
   ],
   "source": [
    "analyzer.analogies(analogy_direction=direction2, tokens=titles)"
   ]
  }
 ],
 "metadata": {
  "colab": {
   "collapsed_sections": [],
   "name": "assignment_4.ipynb",
   "provenance": []
  },
  "kernelspec": {
   "display_name": "Python 3",
   "language": "python",
   "name": "python3"
  },
  "language_info": {
   "codemirror_mode": {
    "name": "ipython",
    "version": 3
   },
   "file_extension": ".py",
   "mimetype": "text/x-python",
   "name": "python",
   "nbconvert_exporter": "python",
   "pygments_lexer": "ipython3",
   "version": "3.8.5"
  }
 },
 "nbformat": 4,
 "nbformat_minor": 1
}
